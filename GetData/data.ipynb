{
 "cells": [
  {
   "cell_type": "code",
   "execution_count": 19,
   "metadata": {},
   "outputs": [],
   "source": [
    "import yfinance as yf\n",
    "import pandas as pd\n",
    "from datetime import datetime, timedelta\n",
    "from google.cloud import bigquery"
   ]
  },
  {
   "cell_type": "code",
   "execution_count": 20,
   "metadata": {},
   "outputs": [],
   "source": [
    "# Télécharger la liste des tickers du S&P 500\n",
    "def get_sp500_tickers():\n",
    "    \"\"\"Récupère la liste des tickers du S&P 500 via Wikipedia.\"\"\"\n",
    "    url = \"https://en.wikipedia.org/wiki/List_of_S%26P_500_companies\"\n",
    "    table = pd.read_html(url, header=0)\n",
    "    sp500_table = table[0]  # La table principale est la première\n",
    "    return sp500_table[\"Symbol\"].tolist()"
   ]
  },
  {
   "cell_type": "code",
   "execution_count": null,
   "metadata": {},
   "outputs": [],
   "source": [
    "# Télécharger les données du jour précédent\n",
    "def download_previous_day_data(tickers):\n",
    "    \"\"\"\n",
    "    Télécharge les données daily pour les tickers du jour précédent.\n",
    "    \"\"\"\n",
    "    # start_date = (datetime.now() - timedelta(days=1)).strftime(\"%Y-%m-%d\")\n",
    "    # end_date = (datetime.now() - timedelta(days=0)).strftime(\"%Y-%m-%d\")\n",
    "\n",
    "    current_date = datetime.now() - timedelta(days=1)\n",
    "    while not pd.Timestamp(current_date).isoweekday() in range(\n",
    "        1, 6\n",
    "    ):  # Lundi (1) à Vendredi (5)\n",
    "        current_date -= timedelta(days=1)\n",
    "\n",
    "    start_date = current_date.strftime(\"%Y-%m-%d\")\n",
    "    end_date = (current_date + timedelta(days=1)).strftime(\"%Y-%m-%d\")\n",
    "\n",
    "    data = yf.download(\n",
    "        tickers=\" \".join(tickers),\n",
    "        start=start_date,\n",
    "        end=end_date,\n",
    "        interval=\"1d\",\n",
    "        group_by=\"ticker\",\n",
    "        threads=True,\n",
    "    )\n",
    "    if data.empty:\n",
    "        print(f\"Aucune donnée disponible pour {start_date}.\")\n",
    "        return pd.DataFrame()  # Retourne un DataFrame vide si aucune donnée\n",
    "    # Restructurer les données\n",
    "    data = data.stack(level=0, future_stack=True).reset_index()\n",
    "    data.columns = [\n",
    "        \"Date\",\n",
    "        \"Ticker\",\n",
    "        \"Open\",\n",
    "        \"High\",\n",
    "        \"Low\",\n",
    "        \"Close\",\n",
    "        \"Adj Close\",\n",
    "        \"Volume\",\n",
    "    ]\n",
    "    return data"
   ]
  },
  {
   "cell_type": "code",
   "execution_count": null,
   "metadata": {},
   "outputs": [],
   "source": [
    "# Charger les données dans BigQuery\n",
    "def load_data_to_bigquery(df, table_id, project_id):\n",
    "    \"\"\"\n",
    "    Charge un DataFrame dans une table BigQuery.\n",
    "\n",
    "    Arguments :\n",
    "        df : pandas.DataFrame contenant les données à charger.\n",
    "        table_id : ID complet de la table BigQuery (ex : dataset.table_name).\n",
    "        project_id : ID du projet Google Cloud.\n",
    "    \"\"\"\n",
    "    client = bigquery.Client(project=project_id)\n",
    "\n",
    "    # Convertir les données au format BigQuery\n",
    "    job = client.load_table_from_dataframe(df, table_id)\n",
    "\n",
    "    # Attendre la fin du job\n",
    "    job.result()\n",
    "    print(f\"Les données ont été chargées dans {table_id}\")\n",
    "\n",
    "\n",
    "# Charger les données dans une table temporaire\n",
    "def load_to_temp_table(client, df, temp_table_id):\n",
    "    \"\"\"\n",
    "    Charge les données dans une table temporaire BigQuery.\n",
    "    \"\"\"\n",
    "    job_config = bigquery.LoadJobConfig(\n",
    "        write_disposition=\"WRITE_TRUNCATE\"  # Écrase les données existantes\n",
    "    )\n",
    "    job = client.load_table_from_dataframe(df, temp_table_id, job_config=job_config)\n",
    "    job.result()\n",
    "    print(f\"Données chargées dans la table temporaire {temp_table_id}\")\n",
    "\n",
    "\n",
    "# Fusionner les données avec la table principale\n",
    "def merge_into_main_table(client, temp_table_id, main_table_id):\n",
    "    \"\"\"\n",
    "    Fusionne les données de la table temporaire dans la table principale.\n",
    "    \"\"\"\n",
    "    query = f\"\"\"\n",
    "    MERGE `{main_table_id}` AS main\n",
    "    USING `{temp_table_id}` AS temp\n",
    "    ON main.Date = temp.Date AND main.Ticker = temp.Ticker\n",
    "    WHEN NOT MATCHED THEN\n",
    "      INSERT (Date, Ticker, Open, High, Low, Close, `Adj Close`, Volume)  -- `Adj Close` avec un espace\n",
    "      VALUES (temp.Date, temp.Ticker, temp.Open, temp.High, temp.Low, temp.Close, temp.`Adj Close`, temp.Volume)\n",
    "    \"\"\"\n",
    "    job = client.query(query)\n",
    "    job.result()\n",
    "    print(f\"Données fusionnées dans la table principale {main_table_id}\")"
   ]
  },
  {
   "cell_type": "code",
   "execution_count": null,
   "metadata": {},
   "outputs": [],
   "source": [
    "def add_daily():\n",
    "    # Étape 1 : Configuration\n",
    "    PROJECT_ID = \"quant-dev-442615\"\n",
    "    DATASET_ID = \"financial_data\"\n",
    "    MAIN_TABLE_ID = f\"{PROJECT_ID}.{DATASET_ID}.sp500_data\"\n",
    "    TEMP_TABLE_ID = f\"{PROJECT_ID}.{DATASET_ID}.temp_sp500_data\"\n",
    "\n",
    "    # Récupérer les tickers\n",
    "    print(\"Téléchargement des tickers du S&P 500...\")\n",
    "    tickers = get_sp500_tickers()\n",
    "\n",
    "    # Étape 2 : Télécharger les données\n",
    "    print(\"Téléchargement des données du jour précédent...\")\n",
    "    sp500_data = download_previous_day_data(tickers)\n",
    "    if sp500_data.empty:\n",
    "        print(\"Aucune donnée disponible. Fin de l'exécution.\")\n",
    "        return  # Arrête l'exécution si aucune donnée n'est disponible\n",
    "    sp500_data[\"Date\"] = pd.to_datetime(sp500_data[\"Date\"]).dt.date\n",
    "    # Convertir la colonne Volume en entier\n",
    "    sp500_data[\"Volume\"] = sp500_data[\"Volume\"].fillna(0).astype(int)\n",
    "\n",
    "    # # Étape 3 : Charger dans BigQuery\n",
    "    # client = bigquery.Client(project=PROJECT_ID)\n",
    "    # print(\"Chargement des données dans une table temporaire...\")\n",
    "    # load_to_temp_table(client, sp500_data, TEMP_TABLE_ID)\n",
    "\n",
    "    # # Étape 4 : Fusionner avec la table principale\n",
    "    # print(\"Fusion des données avec la table principale...\")\n",
    "    # merge_into_main_table(client, TEMP_TABLE_ID, MAIN_TABLE_ID)"
   ]
  },
  {
   "cell_type": "code",
   "execution_count": 12,
   "metadata": {},
   "outputs": [
    {
     "name": "stdout",
     "output_type": "stream",
     "text": [
      "Téléchargement des tickers du S&P 500...\n",
      "Téléchargement des données du jour précédent...\n"
     ]
    },
    {
     "name": "stderr",
     "output_type": "stream",
     "text": [
      "[*********************100%***********************]  503 of 503 completed\n",
      "\n",
      "2 Failed downloads:\n",
      "['BRK.B']: YFTzMissingError('$%ticker%: possibly delisted; no timezone found')\n",
      "['BF.B']: YFPricesMissingError('$%ticker%: possibly delisted; no price data found  (1d 2024-11-26 -> 2024-11-27)')\n"
     ]
    }
   ],
   "source": [
    "PROJECT_ID = \"quant-dev-442615\"\n",
    "DATASET_ID = \"financial_data\"\n",
    "MAIN_TABLE_ID = f\"{PROJECT_ID}.{DATASET_ID}.sp500_data\"\n",
    "TEMP_TABLE_ID = f\"{PROJECT_ID}.{DATASET_ID}.temp_sp500_data\"\n",
    "\n",
    "# Récupérer les tickers\n",
    "print(\"Téléchargement des tickers du S&P 500...\")\n",
    "tickers = get_sp500_tickers()\n",
    "\n",
    "# Étape 2 : Télécharger les données\n",
    "print(\"Téléchargement des données du jour précédent...\")\n",
    "sp500_data = download_previous_day_data(tickers)\n",
    "sp500_data[\"Date\"] = pd.to_datetime(sp500_data[\"Date\"]).dt.date\n",
    "# Convertir la colonne Volume en entier\n",
    "sp500_data[\"Volume\"] = sp500_data[\"Volume\"].fillna(0).astype(int)"
   ]
  },
  {
   "cell_type": "code",
   "execution_count": 15,
   "metadata": {},
   "outputs": [
    {
     "data": {
      "text/plain": [
       "4024"
      ]
     },
     "execution_count": 15,
     "metadata": {},
     "output_type": "execute_result"
    }
   ],
   "source": [
    "sp500_data.size"
   ]
  },
  {
   "cell_type": "code",
   "execution_count": 18,
   "metadata": {},
   "outputs": [
    {
     "name": "stdout",
     "output_type": "stream",
     "text": [
      "Poids total : 72651 octets\n",
      "Poids total : 70.9482421875 Ko\n",
      "Poids total : 0.06928539276123047 Mo\n"
     ]
    }
   ],
   "source": [
    "total_bytes = sp500_data.memory_usage(deep=True).sum()\n",
    "print(f\"Poids total : {total_bytes} octets\")\n",
    "\n",
    "# Convertir en kilooctets ou mégaoctets\n",
    "total_kb = total_bytes / 1024\n",
    "print(f\"Poids total : {total_kb} Ko\")\n",
    "\n",
    "total_mb = total_kb / 1024\n",
    "print(f\"Poids total : {total_mb} Mo\")"
   ]
  },
  {
   "cell_type": "code",
   "execution_count": 21,
   "metadata": {},
   "outputs": [
    {
     "name": "stdout",
     "output_type": "stream",
     "text": [
      "Téléchargement des tickers du S&P 500...\n",
      "Nombre de tickers récupérés : 503\n",
      "Téléchargement des données journalières...\n"
     ]
    },
    {
     "name": "stderr",
     "output_type": "stream",
     "text": [
      "[*********************100%***********************]  503 of 503 completed\n",
      "\n",
      "2 Failed downloads:\n",
      "['BRK.B']: YFTzMissingError('$%ticker%: possibly delisted; no timezone found')\n",
      "['BF.B']: YFPricesMissingError('$%ticker%: possibly delisted; no price data found  (1d 2000-01-01 -> 2024-11-30)')\n"
     ]
    }
   ],
   "source": [
    "import yfinance as yf\n",
    "import pandas as pd\n",
    "from datetime import datetime, timedelta\n",
    "from google.cloud import bigquery\n",
    "\n",
    "\n",
    "# Télécharger la liste des tickers du S&P 500\n",
    "def get_sp500_tickers():\n",
    "    \"\"\"Récupère la liste des tickers du S&P 500 via Wikipedia.\"\"\"\n",
    "    url = \"https://en.wikipedia.org/wiki/List_of_S%26P_500_companies\"\n",
    "    table = pd.read_html(url, header=0)\n",
    "    sp500_table = table[0]  # La table principale est la première\n",
    "    return sp500_table[\"Symbol\"].tolist()\n",
    "\n",
    "\n",
    "# Télécharger les données pour tous les tickers\n",
    "def download_sp500_data(\n",
    "    tickers, start_date=\"2000-01-01\", end_date=None\n",
    ") -> pd.DataFrame:\n",
    "    \"\"\"\n",
    "    Télécharge les données daily de tous les tickers du S&P 500.\n",
    "    \"\"\"\n",
    "    # Obtenir les données via yfinance\n",
    "    data = yf.download(\n",
    "        tickers=\" \".join(tickers),\n",
    "        start=start_date,\n",
    "        end=end_date,\n",
    "        interval=\"1d\",\n",
    "        group_by=\"ticker\",  # Organise les données par ticker\n",
    "        threads=True,  # Téléchargement parallèle\n",
    "    )\n",
    "\n",
    "    data = data.stack(\n",
    "        level=0, future_stack=True\n",
    "    ).reset_index()  # Rendre les tickers une colonne\n",
    "    data.columns = [\n",
    "        \"Date\",\n",
    "        \"Ticker\",\n",
    "        \"Open\",\n",
    "        \"High\",\n",
    "        \"Low\",\n",
    "        \"Close\",\n",
    "        \"Adj Close\",\n",
    "        \"Volume\",\n",
    "    ]\n",
    "\n",
    "    return data\n",
    "\n",
    "\n",
    "def fill_table():\n",
    "    # Étape 1 : Récupérer les tickers\n",
    "    print(\"Téléchargement des tickers du S&P 500...\")\n",
    "    sp500_tickers = get_sp500_tickers()\n",
    "    print(f\"Nombre de tickers récupérés : {len(sp500_tickers)}\")\n",
    "\n",
    "    # Étape 2 : Télécharger les données\n",
    "    print(\"Téléchargement des données journalières...\")\n",
    "    sp500_data = download_sp500_data(sp500_tickers, start_date=\"2000-01-01\")\n",
    "    sp500_data.to_csv(\"./sp500_data.csv\", index=False)\n",
    "\n",
    "\n",
    "fill_table()"
   ]
  },
  {
   "cell_type": "code",
   "execution_count": null,
   "metadata": {},
   "outputs": [
    {
     "name": "stdout",
     "output_type": "stream",
     "text": [
      "Téléchargement des tickers du S&P 500...\n",
      "Nombre de tickers récupérés : 503\n",
      "Téléchargement des données journalières...\n",
      "Téléchargement du lot 1 : ['MMM', 'AOS', 'ABT', 'ABBV', 'ACN', 'ADBE', 'AMD', 'AES', 'AFL', 'A']\n"
     ]
    },
    {
     "name": "stderr",
     "output_type": "stream",
     "text": [
      "[*********************100%***********************]  10 of 10 completed\n",
      "C:\\Users\\Hadrien\\AppData\\Local\\Temp\\ipykernel_18548\\4072023076.py:41: FutureWarning: The previous implementation of stack is deprecated and will be removed in a future version of pandas. See the What's New notes for pandas 2.1.0 for details. Specify future_stack=True to adopt the new implementation and silence this warning.\n",
      "  data = data.stack(level=0, dropna=True).reset_index()\n"
     ]
    },
    {
     "name": "stdout",
     "output_type": "stream",
     "text": [
      "Téléchargement du lot 2 : ['APD', 'ABNB', 'AKAM', 'ALB', 'ARE', 'ALGN', 'ALLE', 'LNT', 'ALL', 'GOOGL']\n"
     ]
    },
    {
     "name": "stderr",
     "output_type": "stream",
     "text": [
      "[*********************100%***********************]  10 of 10 completed\n",
      "C:\\Users\\Hadrien\\AppData\\Local\\Temp\\ipykernel_18548\\4072023076.py:41: FutureWarning: The previous implementation of stack is deprecated and will be removed in a future version of pandas. See the What's New notes for pandas 2.1.0 for details. Specify future_stack=True to adopt the new implementation and silence this warning.\n",
      "  data = data.stack(level=0, dropna=True).reset_index()\n",
      "[                       0%                       ]"
     ]
    },
    {
     "name": "stdout",
     "output_type": "stream",
     "text": [
      "Téléchargement du lot 3 : ['GOOG', 'MO', 'AMZN', 'AMCR', 'AMTM', 'AEE', 'AEP', 'AXP', 'AIG', 'AMT']\n"
     ]
    },
    {
     "name": "stderr",
     "output_type": "stream",
     "text": [
      "[*********************100%***********************]  10 of 10 completed\n",
      "C:\\Users\\Hadrien\\AppData\\Local\\Temp\\ipykernel_18548\\4072023076.py:41: FutureWarning: The previous implementation of stack is deprecated and will be removed in a future version of pandas. See the What's New notes for pandas 2.1.0 for details. Specify future_stack=True to adopt the new implementation and silence this warning.\n",
      "  data = data.stack(level=0, dropna=True).reset_index()\n"
     ]
    },
    {
     "name": "stdout",
     "output_type": "stream",
     "text": [
      "Téléchargement du lot 4 : ['AWK', 'AMP', 'AME', 'AMGN', 'APH', 'ADI', 'ANSS', 'AON', 'APA', 'AAPL']\n"
     ]
    },
    {
     "name": "stderr",
     "output_type": "stream",
     "text": [
      "[*********************100%***********************]  10 of 10 completed\n",
      "C:\\Users\\Hadrien\\AppData\\Local\\Temp\\ipykernel_18548\\4072023076.py:41: FutureWarning: The previous implementation of stack is deprecated and will be removed in a future version of pandas. See the What's New notes for pandas 2.1.0 for details. Specify future_stack=True to adopt the new implementation and silence this warning.\n",
      "  data = data.stack(level=0, dropna=True).reset_index()\n"
     ]
    },
    {
     "name": "stdout",
     "output_type": "stream",
     "text": [
      "Téléchargement du lot 5 : ['AMAT', 'APTV', 'ACGL', 'ADM', 'ANET', 'AJG', 'AIZ', 'T', 'ATO', 'ADSK']\n"
     ]
    },
    {
     "name": "stderr",
     "output_type": "stream",
     "text": [
      "[*********************100%***********************]  10 of 10 completed\n",
      "C:\\Users\\Hadrien\\AppData\\Local\\Temp\\ipykernel_18548\\4072023076.py:41: FutureWarning: The previous implementation of stack is deprecated and will be removed in a future version of pandas. See the What's New notes for pandas 2.1.0 for details. Specify future_stack=True to adopt the new implementation and silence this warning.\n",
      "  data = data.stack(level=0, dropna=True).reset_index()\n"
     ]
    },
    {
     "name": "stdout",
     "output_type": "stream",
     "text": [
      "Téléchargement du lot 6 : ['ADP', 'AZO', 'AVB', 'AVY', 'AXON', 'BKR', 'BALL', 'BAC', 'BAX', 'BDX']\n"
     ]
    },
    {
     "name": "stderr",
     "output_type": "stream",
     "text": [
      "[*********************100%***********************]  10 of 10 completed\n",
      "C:\\Users\\Hadrien\\AppData\\Local\\Temp\\ipykernel_18548\\4072023076.py:41: FutureWarning: The previous implementation of stack is deprecated and will be removed in a future version of pandas. See the What's New notes for pandas 2.1.0 for details. Specify future_stack=True to adopt the new implementation and silence this warning.\n",
      "  data = data.stack(level=0, dropna=True).reset_index()\n",
      "[                       0%                       ]"
     ]
    },
    {
     "name": "stdout",
     "output_type": "stream",
     "text": [
      "Téléchargement du lot 7 : ['BRK.B', 'BBY', 'TECH', 'BIIB', 'BLK', 'BX', 'BK', 'BA', 'BKNG', 'BWA']\n"
     ]
    },
    {
     "name": "stderr",
     "output_type": "stream",
     "text": [
      "[*********************100%***********************]  10 of 10 completed\n",
      "\n",
      "1 Failed download:\n",
      "['BRK.B']: YFTzMissingError('$%ticker%: possibly delisted; no timezone found')\n",
      "C:\\Users\\Hadrien\\AppData\\Local\\Temp\\ipykernel_18548\\4072023076.py:41: FutureWarning: The previous implementation of stack is deprecated and will be removed in a future version of pandas. See the What's New notes for pandas 2.1.0 for details. Specify future_stack=True to adopt the new implementation and silence this warning.\n",
      "  data = data.stack(level=0, dropna=True).reset_index()\n",
      "[                       0%                       ]"
     ]
    },
    {
     "name": "stdout",
     "output_type": "stream",
     "text": [
      "Téléchargement du lot 8 : ['BSX', 'BMY', 'AVGO', 'BR', 'BRO', 'BF.B', 'BLDR', 'BG', 'BXP', 'CHRW']\n"
     ]
    },
    {
     "name": "stderr",
     "output_type": "stream",
     "text": [
      "[*********************100%***********************]  10 of 10 completed\n",
      "\n",
      "1 Failed download:\n",
      "['BF.B']: YFPricesMissingError('$%ticker%: possibly delisted; no price data found  (1d 2000-01-01 -> 2024-11-30)')\n",
      "C:\\Users\\Hadrien\\AppData\\Local\\Temp\\ipykernel_18548\\4072023076.py:41: FutureWarning: The previous implementation of stack is deprecated and will be removed in a future version of pandas. See the What's New notes for pandas 2.1.0 for details. Specify future_stack=True to adopt the new implementation and silence this warning.\n",
      "  data = data.stack(level=0, dropna=True).reset_index()\n"
     ]
    },
    {
     "name": "stdout",
     "output_type": "stream",
     "text": [
      "Téléchargement du lot 9 : ['CDNS', 'CZR', 'CPT', 'CPB', 'COF', 'CAH', 'KMX', 'CCL', 'CARR', 'CTLT']\n"
     ]
    },
    {
     "name": "stderr",
     "output_type": "stream",
     "text": [
      "[*********************100%***********************]  10 of 10 completed\n",
      "C:\\Users\\Hadrien\\AppData\\Local\\Temp\\ipykernel_18548\\4072023076.py:41: FutureWarning: The previous implementation of stack is deprecated and will be removed in a future version of pandas. See the What's New notes for pandas 2.1.0 for details. Specify future_stack=True to adopt the new implementation and silence this warning.\n",
      "  data = data.stack(level=0, dropna=True).reset_index()\n"
     ]
    },
    {
     "name": "stdout",
     "output_type": "stream",
     "text": [
      "Téléchargement du lot 10 : ['CAT', 'CBOE', 'CBRE', 'CDW', 'CE', 'COR', 'CNC', 'CNP', 'CF', 'CRL']\n"
     ]
    },
    {
     "name": "stderr",
     "output_type": "stream",
     "text": [
      "[*********************100%***********************]  10 of 10 completed\n",
      "C:\\Users\\Hadrien\\AppData\\Local\\Temp\\ipykernel_18548\\4072023076.py:41: FutureWarning: The previous implementation of stack is deprecated and will be removed in a future version of pandas. See the What's New notes for pandas 2.1.0 for details. Specify future_stack=True to adopt the new implementation and silence this warning.\n",
      "  data = data.stack(level=0, dropna=True).reset_index()\n"
     ]
    },
    {
     "name": "stdout",
     "output_type": "stream",
     "text": [
      "Téléchargement du lot 11 : ['SCHW', 'CHTR', 'CVX', 'CMG', 'CB', 'CHD', 'CI', 'CINF', 'CTAS', 'CSCO']\n"
     ]
    },
    {
     "name": "stderr",
     "output_type": "stream",
     "text": [
      "[*********************100%***********************]  10 of 10 completed\n",
      "C:\\Users\\Hadrien\\AppData\\Local\\Temp\\ipykernel_18548\\4072023076.py:41: FutureWarning: The previous implementation of stack is deprecated and will be removed in a future version of pandas. See the What's New notes for pandas 2.1.0 for details. Specify future_stack=True to adopt the new implementation and silence this warning.\n",
      "  data = data.stack(level=0, dropna=True).reset_index()\n"
     ]
    },
    {
     "name": "stdout",
     "output_type": "stream",
     "text": [
      "Téléchargement du lot 12 : ['C', 'CFG', 'CLX', 'CME', 'CMS', 'KO', 'CTSH', 'CL', 'CMCSA', 'CAG']\n"
     ]
    },
    {
     "name": "stderr",
     "output_type": "stream",
     "text": [
      "[*********************100%***********************]  10 of 10 completed\n",
      "C:\\Users\\Hadrien\\AppData\\Local\\Temp\\ipykernel_18548\\4072023076.py:41: FutureWarning: The previous implementation of stack is deprecated and will be removed in a future version of pandas. See the What's New notes for pandas 2.1.0 for details. Specify future_stack=True to adopt the new implementation and silence this warning.\n",
      "  data = data.stack(level=0, dropna=True).reset_index()\n"
     ]
    },
    {
     "name": "stdout",
     "output_type": "stream",
     "text": [
      "Téléchargement du lot 13 : ['COP', 'ED', 'STZ', 'CEG', 'COO', 'CPRT', 'GLW', 'CPAY', 'CTVA', 'CSGP']\n"
     ]
    },
    {
     "name": "stderr",
     "output_type": "stream",
     "text": [
      "[*********************100%***********************]  10 of 10 completed\n",
      "C:\\Users\\Hadrien\\AppData\\Local\\Temp\\ipykernel_18548\\4072023076.py:41: FutureWarning: The previous implementation of stack is deprecated and will be removed in a future version of pandas. See the What's New notes for pandas 2.1.0 for details. Specify future_stack=True to adopt the new implementation and silence this warning.\n",
      "  data = data.stack(level=0, dropna=True).reset_index()\n"
     ]
    },
    {
     "name": "stdout",
     "output_type": "stream",
     "text": [
      "Téléchargement du lot 14 : ['COST', 'CTRA', 'CRWD', 'CCI', 'CSX', 'CMI', 'CVS', 'DHR', 'DRI', 'DVA']\n"
     ]
    },
    {
     "name": "stderr",
     "output_type": "stream",
     "text": [
      "[*********************100%***********************]  10 of 10 completed\n",
      "C:\\Users\\Hadrien\\AppData\\Local\\Temp\\ipykernel_18548\\4072023076.py:41: FutureWarning: The previous implementation of stack is deprecated and will be removed in a future version of pandas. See the What's New notes for pandas 2.1.0 for details. Specify future_stack=True to adopt the new implementation and silence this warning.\n",
      "  data = data.stack(level=0, dropna=True).reset_index()\n"
     ]
    },
    {
     "name": "stdout",
     "output_type": "stream",
     "text": [
      "Téléchargement du lot 15 : ['DAY', 'DECK', 'DE', 'DELL', 'DAL', 'DVN', 'DXCM', 'FANG', 'DLR', 'DFS']\n"
     ]
    },
    {
     "name": "stderr",
     "output_type": "stream",
     "text": [
      "[*********************100%***********************]  10 of 10 completed\n",
      "C:\\Users\\Hadrien\\AppData\\Local\\Temp\\ipykernel_18548\\4072023076.py:41: FutureWarning: The previous implementation of stack is deprecated and will be removed in a future version of pandas. See the What's New notes for pandas 2.1.0 for details. Specify future_stack=True to adopt the new implementation and silence this warning.\n",
      "  data = data.stack(level=0, dropna=True).reset_index()\n"
     ]
    },
    {
     "name": "stdout",
     "output_type": "stream",
     "text": [
      "Téléchargement du lot 16 : ['DG', 'DLTR', 'D', 'DPZ', 'DOV', 'DOW', 'DHI', 'DTE', 'DUK', 'DD']\n"
     ]
    },
    {
     "name": "stderr",
     "output_type": "stream",
     "text": [
      "[*********************100%***********************]  10 of 10 completed\n",
      "C:\\Users\\Hadrien\\AppData\\Local\\Temp\\ipykernel_18548\\4072023076.py:41: FutureWarning: The previous implementation of stack is deprecated and will be removed in a future version of pandas. See the What's New notes for pandas 2.1.0 for details. Specify future_stack=True to adopt the new implementation and silence this warning.\n",
      "  data = data.stack(level=0, dropna=True).reset_index()\n"
     ]
    },
    {
     "name": "stdout",
     "output_type": "stream",
     "text": [
      "Téléchargement du lot 17 : ['EMN', 'ETN', 'EBAY', 'ECL', 'EIX', 'EW', 'EA', 'ELV', 'EMR', 'ENPH']\n"
     ]
    },
    {
     "name": "stderr",
     "output_type": "stream",
     "text": [
      "[*********************100%***********************]  10 of 10 completed\n",
      "C:\\Users\\Hadrien\\AppData\\Local\\Temp\\ipykernel_18548\\4072023076.py:41: FutureWarning: The previous implementation of stack is deprecated and will be removed in a future version of pandas. See the What's New notes for pandas 2.1.0 for details. Specify future_stack=True to adopt the new implementation and silence this warning.\n",
      "  data = data.stack(level=0, dropna=True).reset_index()\n"
     ]
    },
    {
     "name": "stdout",
     "output_type": "stream",
     "text": [
      "Téléchargement du lot 18 : ['ETR', 'EOG', 'EPAM', 'EQT', 'EFX', 'EQIX', 'EQR', 'ERIE', 'ESS', 'EL']\n"
     ]
    },
    {
     "name": "stderr",
     "output_type": "stream",
     "text": [
      "[*********************100%***********************]  10 of 10 completed\n",
      "C:\\Users\\Hadrien\\AppData\\Local\\Temp\\ipykernel_18548\\4072023076.py:41: FutureWarning: The previous implementation of stack is deprecated and will be removed in a future version of pandas. See the What's New notes for pandas 2.1.0 for details. Specify future_stack=True to adopt the new implementation and silence this warning.\n",
      "  data = data.stack(level=0, dropna=True).reset_index()\n"
     ]
    },
    {
     "name": "stdout",
     "output_type": "stream",
     "text": [
      "Téléchargement du lot 19 : ['EG', 'EVRG', 'ES', 'EXC', 'EXPE', 'EXPD', 'EXR', 'XOM', 'FFIV', 'FDS']\n"
     ]
    },
    {
     "name": "stderr",
     "output_type": "stream",
     "text": [
      "[*********************100%***********************]  10 of 10 completed\n",
      "C:\\Users\\Hadrien\\AppData\\Local\\Temp\\ipykernel_18548\\4072023076.py:41: FutureWarning: The previous implementation of stack is deprecated and will be removed in a future version of pandas. See the What's New notes for pandas 2.1.0 for details. Specify future_stack=True to adopt the new implementation and silence this warning.\n",
      "  data = data.stack(level=0, dropna=True).reset_index()\n"
     ]
    },
    {
     "name": "stdout",
     "output_type": "stream",
     "text": [
      "Téléchargement du lot 20 : ['FICO', 'FAST', 'FRT', 'FDX', 'FIS', 'FITB', 'FSLR', 'FE', 'FI', 'FMC']\n"
     ]
    },
    {
     "name": "stderr",
     "output_type": "stream",
     "text": [
      "[*********************100%***********************]  10 of 10 completed\n",
      "C:\\Users\\Hadrien\\AppData\\Local\\Temp\\ipykernel_18548\\4072023076.py:41: FutureWarning: The previous implementation of stack is deprecated and will be removed in a future version of pandas. See the What's New notes for pandas 2.1.0 for details. Specify future_stack=True to adopt the new implementation and silence this warning.\n",
      "  data = data.stack(level=0, dropna=True).reset_index()\n",
      "[                       0%                       ]"
     ]
    },
    {
     "name": "stdout",
     "output_type": "stream",
     "text": [
      "Téléchargement du lot 21 : ['F', 'FTNT', 'FTV', 'FOXA', 'FOX', 'BEN', 'FCX', 'GRMN', 'IT', 'GE']\n"
     ]
    },
    {
     "name": "stderr",
     "output_type": "stream",
     "text": [
      "[*********************100%***********************]  10 of 10 completed\n",
      "C:\\Users\\Hadrien\\AppData\\Local\\Temp\\ipykernel_18548\\4072023076.py:41: FutureWarning: The previous implementation of stack is deprecated and will be removed in a future version of pandas. See the What's New notes for pandas 2.1.0 for details. Specify future_stack=True to adopt the new implementation and silence this warning.\n",
      "  data = data.stack(level=0, dropna=True).reset_index()\n",
      "[**********            20%                       ]  2 of 10 completed"
     ]
    },
    {
     "name": "stdout",
     "output_type": "stream",
     "text": [
      "Téléchargement du lot 22 : ['GEHC', 'GEV', 'GEN', 'GNRC', 'GD', 'GIS', 'GM', 'GPC', 'GILD', 'GPN']\n"
     ]
    },
    {
     "name": "stderr",
     "output_type": "stream",
     "text": [
      "[*********************100%***********************]  10 of 10 completed\n",
      "C:\\Users\\Hadrien\\AppData\\Local\\Temp\\ipykernel_18548\\4072023076.py:41: FutureWarning: The previous implementation of stack is deprecated and will be removed in a future version of pandas. See the What's New notes for pandas 2.1.0 for details. Specify future_stack=True to adopt the new implementation and silence this warning.\n",
      "  data = data.stack(level=0, dropna=True).reset_index()\n",
      "[                       0%                       ]"
     ]
    },
    {
     "name": "stdout",
     "output_type": "stream",
     "text": [
      "Téléchargement du lot 23 : ['GL', 'GDDY', 'GS', 'HAL', 'HIG', 'HAS', 'HCA', 'DOC', 'HSIC', 'HSY']\n"
     ]
    },
    {
     "name": "stderr",
     "output_type": "stream",
     "text": [
      "[*********************100%***********************]  10 of 10 completed\n",
      "C:\\Users\\Hadrien\\AppData\\Local\\Temp\\ipykernel_18548\\4072023076.py:41: FutureWarning: The previous implementation of stack is deprecated and will be removed in a future version of pandas. See the What's New notes for pandas 2.1.0 for details. Specify future_stack=True to adopt the new implementation and silence this warning.\n",
      "  data = data.stack(level=0, dropna=True).reset_index()\n"
     ]
    },
    {
     "name": "stdout",
     "output_type": "stream",
     "text": [
      "Téléchargement du lot 24 : ['HES', 'HPE', 'HLT', 'HOLX', 'HD', 'HON', 'HRL', 'HST', 'HWM', 'HPQ']\n"
     ]
    },
    {
     "name": "stderr",
     "output_type": "stream",
     "text": [
      "[*********************100%***********************]  10 of 10 completed\n",
      "C:\\Users\\Hadrien\\AppData\\Local\\Temp\\ipykernel_18548\\4072023076.py:41: FutureWarning: The previous implementation of stack is deprecated and will be removed in a future version of pandas. See the What's New notes for pandas 2.1.0 for details. Specify future_stack=True to adopt the new implementation and silence this warning.\n",
      "  data = data.stack(level=0, dropna=True).reset_index()\n"
     ]
    },
    {
     "name": "stdout",
     "output_type": "stream",
     "text": [
      "Téléchargement du lot 25 : ['HUBB', 'HUM', 'HBAN', 'HII', 'IBM', 'IEX', 'IDXX', 'ITW', 'INCY', 'IR']\n"
     ]
    },
    {
     "name": "stderr",
     "output_type": "stream",
     "text": [
      "[*********************100%***********************]  10 of 10 completed\n",
      "C:\\Users\\Hadrien\\AppData\\Local\\Temp\\ipykernel_18548\\4072023076.py:41: FutureWarning: The previous implementation of stack is deprecated and will be removed in a future version of pandas. See the What's New notes for pandas 2.1.0 for details. Specify future_stack=True to adopt the new implementation and silence this warning.\n",
      "  data = data.stack(level=0, dropna=True).reset_index()\n"
     ]
    },
    {
     "name": "stdout",
     "output_type": "stream",
     "text": [
      "Téléchargement du lot 26 : ['PODD', 'INTC', 'ICE', 'IFF', 'IP', 'IPG', 'INTU', 'ISRG', 'IVZ', 'INVH']\n"
     ]
    },
    {
     "name": "stderr",
     "output_type": "stream",
     "text": [
      "[*********************100%***********************]  10 of 10 completed\n",
      "C:\\Users\\Hadrien\\AppData\\Local\\Temp\\ipykernel_18548\\4072023076.py:41: FutureWarning: The previous implementation of stack is deprecated and will be removed in a future version of pandas. See the What's New notes for pandas 2.1.0 for details. Specify future_stack=True to adopt the new implementation and silence this warning.\n",
      "  data = data.stack(level=0, dropna=True).reset_index()\n"
     ]
    },
    {
     "name": "stdout",
     "output_type": "stream",
     "text": [
      "Téléchargement du lot 27 : ['IQV', 'IRM', 'JBHT', 'JBL', 'JKHY', 'J', 'JNJ', 'JCI', 'JPM', 'JNPR']\n"
     ]
    },
    {
     "name": "stderr",
     "output_type": "stream",
     "text": [
      "[*********************100%***********************]  10 of 10 completed\n",
      "C:\\Users\\Hadrien\\AppData\\Local\\Temp\\ipykernel_18548\\4072023076.py:41: FutureWarning: The previous implementation of stack is deprecated and will be removed in a future version of pandas. See the What's New notes for pandas 2.1.0 for details. Specify future_stack=True to adopt the new implementation and silence this warning.\n",
      "  data = data.stack(level=0, dropna=True).reset_index()\n",
      "[**********            20%                       ]  2 of 10 completed"
     ]
    },
    {
     "name": "stdout",
     "output_type": "stream",
     "text": [
      "Téléchargement du lot 28 : ['K', 'KVUE', 'KDP', 'KEY', 'KEYS', 'KMB', 'KIM', 'KMI', 'KKR', 'KLAC']\n"
     ]
    },
    {
     "name": "stderr",
     "output_type": "stream",
     "text": [
      "[*********************100%***********************]  10 of 10 completed\n",
      "C:\\Users\\Hadrien\\AppData\\Local\\Temp\\ipykernel_18548\\4072023076.py:41: FutureWarning: The previous implementation of stack is deprecated and will be removed in a future version of pandas. See the What's New notes for pandas 2.1.0 for details. Specify future_stack=True to adopt the new implementation and silence this warning.\n",
      "  data = data.stack(level=0, dropna=True).reset_index()\n"
     ]
    },
    {
     "name": "stdout",
     "output_type": "stream",
     "text": [
      "Téléchargement du lot 29 : ['KHC', 'KR', 'LHX', 'LH', 'LRCX', 'LW', 'LVS', 'LDOS', 'LEN', 'LLY']\n"
     ]
    },
    {
     "name": "stderr",
     "output_type": "stream",
     "text": [
      "[*********************100%***********************]  10 of 10 completed\n",
      "C:\\Users\\Hadrien\\AppData\\Local\\Temp\\ipykernel_18548\\4072023076.py:41: FutureWarning: The previous implementation of stack is deprecated and will be removed in a future version of pandas. See the What's New notes for pandas 2.1.0 for details. Specify future_stack=True to adopt the new implementation and silence this warning.\n",
      "  data = data.stack(level=0, dropna=True).reset_index()\n"
     ]
    },
    {
     "name": "stdout",
     "output_type": "stream",
     "text": [
      "Téléchargement du lot 30 : ['LIN', 'LYV', 'LKQ', 'LMT', 'L', 'LOW', 'LULU', 'LYB', 'MTB', 'MPC']\n"
     ]
    },
    {
     "name": "stderr",
     "output_type": "stream",
     "text": [
      "[*********************100%***********************]  10 of 10 completed\n",
      "C:\\Users\\Hadrien\\AppData\\Local\\Temp\\ipykernel_18548\\4072023076.py:41: FutureWarning: The previous implementation of stack is deprecated and will be removed in a future version of pandas. See the What's New notes for pandas 2.1.0 for details. Specify future_stack=True to adopt the new implementation and silence this warning.\n",
      "  data = data.stack(level=0, dropna=True).reset_index()\n"
     ]
    },
    {
     "name": "stdout",
     "output_type": "stream",
     "text": [
      "Téléchargement du lot 31 : ['MKTX', 'MAR', 'MMC', 'MLM', 'MAS', 'MA', 'MTCH', 'MKC', 'MCD', 'MCK']\n"
     ]
    },
    {
     "name": "stderr",
     "output_type": "stream",
     "text": [
      "[*********************100%***********************]  10 of 10 completed\n",
      "C:\\Users\\Hadrien\\AppData\\Local\\Temp\\ipykernel_18548\\4072023076.py:41: FutureWarning: The previous implementation of stack is deprecated and will be removed in a future version of pandas. See the What's New notes for pandas 2.1.0 for details. Specify future_stack=True to adopt the new implementation and silence this warning.\n",
      "  data = data.stack(level=0, dropna=True).reset_index()\n"
     ]
    },
    {
     "name": "stdout",
     "output_type": "stream",
     "text": [
      "Téléchargement du lot 32 : ['MDT', 'MRK', 'META', 'MET', 'MTD', 'MGM', 'MCHP', 'MU', 'MSFT', 'MAA']\n"
     ]
    },
    {
     "name": "stderr",
     "output_type": "stream",
     "text": [
      "[*********************100%***********************]  10 of 10 completed\n",
      "C:\\Users\\Hadrien\\AppData\\Local\\Temp\\ipykernel_18548\\4072023076.py:41: FutureWarning: The previous implementation of stack is deprecated and will be removed in a future version of pandas. See the What's New notes for pandas 2.1.0 for details. Specify future_stack=True to adopt the new implementation and silence this warning.\n",
      "  data = data.stack(level=0, dropna=True).reset_index()\n"
     ]
    },
    {
     "name": "stdout",
     "output_type": "stream",
     "text": [
      "Téléchargement du lot 33 : ['MRNA', 'MHK', 'MOH', 'TAP', 'MDLZ', 'MPWR', 'MNST', 'MCO', 'MS', 'MOS']\n"
     ]
    },
    {
     "name": "stderr",
     "output_type": "stream",
     "text": [
      "[*********************100%***********************]  10 of 10 completed\n",
      "C:\\Users\\Hadrien\\AppData\\Local\\Temp\\ipykernel_18548\\4072023076.py:41: FutureWarning: The previous implementation of stack is deprecated and will be removed in a future version of pandas. See the What's New notes for pandas 2.1.0 for details. Specify future_stack=True to adopt the new implementation and silence this warning.\n",
      "  data = data.stack(level=0, dropna=True).reset_index()\n"
     ]
    },
    {
     "name": "stdout",
     "output_type": "stream",
     "text": [
      "Téléchargement du lot 34 : ['MSI', 'MSCI', 'NDAQ', 'NTAP', 'NFLX', 'NEM', 'NWSA', 'NWS', 'NEE', 'NKE']\n"
     ]
    },
    {
     "name": "stderr",
     "output_type": "stream",
     "text": [
      "[*********************100%***********************]  10 of 10 completed\n",
      "C:\\Users\\Hadrien\\AppData\\Local\\Temp\\ipykernel_18548\\4072023076.py:41: FutureWarning: The previous implementation of stack is deprecated and will be removed in a future version of pandas. See the What's New notes for pandas 2.1.0 for details. Specify future_stack=True to adopt the new implementation and silence this warning.\n",
      "  data = data.stack(level=0, dropna=True).reset_index()\n"
     ]
    },
    {
     "name": "stdout",
     "output_type": "stream",
     "text": [
      "Téléchargement du lot 35 : ['NI', 'NDSN', 'NSC', 'NTRS', 'NOC', 'NCLH', 'NRG', 'NUE', 'NVDA', 'NVR']\n"
     ]
    },
    {
     "name": "stderr",
     "output_type": "stream",
     "text": [
      "[*********************100%***********************]  10 of 10 completed\n",
      "C:\\Users\\Hadrien\\AppData\\Local\\Temp\\ipykernel_18548\\4072023076.py:41: FutureWarning: The previous implementation of stack is deprecated and will be removed in a future version of pandas. See the What's New notes for pandas 2.1.0 for details. Specify future_stack=True to adopt the new implementation and silence this warning.\n",
      "  data = data.stack(level=0, dropna=True).reset_index()\n"
     ]
    },
    {
     "name": "stdout",
     "output_type": "stream",
     "text": [
      "Téléchargement du lot 36 : ['NXPI', 'ORLY', 'OXY', 'ODFL', 'OMC', 'ON', 'OKE', 'ORCL', 'OTIS', 'PCAR']\n"
     ]
    },
    {
     "name": "stderr",
     "output_type": "stream",
     "text": [
      "[*********************100%***********************]  10 of 10 completed\n",
      "C:\\Users\\Hadrien\\AppData\\Local\\Temp\\ipykernel_18548\\4072023076.py:41: FutureWarning: The previous implementation of stack is deprecated and will be removed in a future version of pandas. See the What's New notes for pandas 2.1.0 for details. Specify future_stack=True to adopt the new implementation and silence this warning.\n",
      "  data = data.stack(level=0, dropna=True).reset_index()\n",
      "[                       0%                       ]"
     ]
    },
    {
     "name": "stdout",
     "output_type": "stream",
     "text": [
      "Téléchargement du lot 37 : ['PKG', 'PLTR', 'PANW', 'PARA', 'PH', 'PAYX', 'PAYC', 'PYPL', 'PNR', 'PEP']\n"
     ]
    },
    {
     "name": "stderr",
     "output_type": "stream",
     "text": [
      "[*********************100%***********************]  10 of 10 completed\n",
      "C:\\Users\\Hadrien\\AppData\\Local\\Temp\\ipykernel_18548\\4072023076.py:41: FutureWarning: The previous implementation of stack is deprecated and will be removed in a future version of pandas. See the What's New notes for pandas 2.1.0 for details. Specify future_stack=True to adopt the new implementation and silence this warning.\n",
      "  data = data.stack(level=0, dropna=True).reset_index()\n"
     ]
    },
    {
     "name": "stdout",
     "output_type": "stream",
     "text": [
      "Téléchargement du lot 38 : ['PFE', 'PCG', 'PM', 'PSX', 'PNW', 'PNC', 'POOL', 'PPG', 'PPL', 'PFG']\n"
     ]
    },
    {
     "name": "stderr",
     "output_type": "stream",
     "text": [
      "[*********************100%***********************]  10 of 10 completed\n",
      "C:\\Users\\Hadrien\\AppData\\Local\\Temp\\ipykernel_18548\\4072023076.py:41: FutureWarning: The previous implementation of stack is deprecated and will be removed in a future version of pandas. See the What's New notes for pandas 2.1.0 for details. Specify future_stack=True to adopt the new implementation and silence this warning.\n",
      "  data = data.stack(level=0, dropna=True).reset_index()\n"
     ]
    },
    {
     "name": "stdout",
     "output_type": "stream",
     "text": [
      "Téléchargement du lot 39 : ['PG', 'PGR', 'PLD', 'PRU', 'PEG', 'PTC', 'PSA', 'PHM', 'QRVO', 'PWR']\n"
     ]
    },
    {
     "name": "stderr",
     "output_type": "stream",
     "text": [
      "[*********************100%***********************]  10 of 10 completed\n",
      "C:\\Users\\Hadrien\\AppData\\Local\\Temp\\ipykernel_18548\\4072023076.py:41: FutureWarning: The previous implementation of stack is deprecated and will be removed in a future version of pandas. See the What's New notes for pandas 2.1.0 for details. Specify future_stack=True to adopt the new implementation and silence this warning.\n",
      "  data = data.stack(level=0, dropna=True).reset_index()\n"
     ]
    },
    {
     "name": "stdout",
     "output_type": "stream",
     "text": [
      "Téléchargement du lot 40 : ['QCOM', 'DGX', 'RL', 'RJF', 'RTX', 'O', 'REG', 'REGN', 'RF', 'RSG']\n"
     ]
    },
    {
     "name": "stderr",
     "output_type": "stream",
     "text": [
      "[*********************100%***********************]  10 of 10 completed\n",
      "C:\\Users\\Hadrien\\AppData\\Local\\Temp\\ipykernel_18548\\4072023076.py:41: FutureWarning: The previous implementation of stack is deprecated and will be removed in a future version of pandas. See the What's New notes for pandas 2.1.0 for details. Specify future_stack=True to adopt the new implementation and silence this warning.\n",
      "  data = data.stack(level=0, dropna=True).reset_index()\n"
     ]
    },
    {
     "name": "stdout",
     "output_type": "stream",
     "text": [
      "Téléchargement du lot 41 : ['RMD', 'RVTY', 'ROK', 'ROL', 'ROP', 'ROST', 'RCL', 'SPGI', 'CRM', 'SBAC']\n"
     ]
    },
    {
     "name": "stderr",
     "output_type": "stream",
     "text": [
      "[*********************100%***********************]  10 of 10 completed\n",
      "C:\\Users\\Hadrien\\AppData\\Local\\Temp\\ipykernel_18548\\4072023076.py:41: FutureWarning: The previous implementation of stack is deprecated and will be removed in a future version of pandas. See the What's New notes for pandas 2.1.0 for details. Specify future_stack=True to adopt the new implementation and silence this warning.\n",
      "  data = data.stack(level=0, dropna=True).reset_index()\n",
      "[                       0%                       ]"
     ]
    },
    {
     "name": "stdout",
     "output_type": "stream",
     "text": [
      "Téléchargement du lot 42 : ['SLB', 'STX', 'SRE', 'NOW', 'SHW', 'SPG', 'SWKS', 'SJM', 'SW', 'SNA']\n"
     ]
    },
    {
     "name": "stderr",
     "output_type": "stream",
     "text": [
      "[*********************100%***********************]  10 of 10 completed\n",
      "C:\\Users\\Hadrien\\AppData\\Local\\Temp\\ipykernel_18548\\4072023076.py:41: FutureWarning: The previous implementation of stack is deprecated and will be removed in a future version of pandas. See the What's New notes for pandas 2.1.0 for details. Specify future_stack=True to adopt the new implementation and silence this warning.\n",
      "  data = data.stack(level=0, dropna=True).reset_index()\n",
      "[                       0%                       ]"
     ]
    },
    {
     "name": "stdout",
     "output_type": "stream",
     "text": [
      "Téléchargement du lot 43 : ['SOLV', 'SO', 'LUV', 'SWK', 'SBUX', 'STT', 'STLD', 'STE', 'SYK', 'SMCI']\n"
     ]
    },
    {
     "name": "stderr",
     "output_type": "stream",
     "text": [
      "[*********************100%***********************]  10 of 10 completed\n",
      "C:\\Users\\Hadrien\\AppData\\Local\\Temp\\ipykernel_18548\\4072023076.py:41: FutureWarning: The previous implementation of stack is deprecated and will be removed in a future version of pandas. See the What's New notes for pandas 2.1.0 for details. Specify future_stack=True to adopt the new implementation and silence this warning.\n",
      "  data = data.stack(level=0, dropna=True).reset_index()\n"
     ]
    },
    {
     "name": "stdout",
     "output_type": "stream",
     "text": [
      "Téléchargement du lot 44 : ['SYF', 'SNPS', 'SYY', 'TMUS', 'TROW', 'TTWO', 'TPR', 'TRGP', 'TGT', 'TEL']\n"
     ]
    },
    {
     "name": "stderr",
     "output_type": "stream",
     "text": [
      "[*********************100%***********************]  10 of 10 completed\n",
      "C:\\Users\\Hadrien\\AppData\\Local\\Temp\\ipykernel_18548\\4072023076.py:41: FutureWarning: The previous implementation of stack is deprecated and will be removed in a future version of pandas. See the What's New notes for pandas 2.1.0 for details. Specify future_stack=True to adopt the new implementation and silence this warning.\n",
      "  data = data.stack(level=0, dropna=True).reset_index()\n"
     ]
    },
    {
     "name": "stdout",
     "output_type": "stream",
     "text": [
      "Téléchargement du lot 45 : ['TDY', 'TFX', 'TER', 'TSLA', 'TXN', 'TPL', 'TXT', 'TMO', 'TJX', 'TSCO']\n"
     ]
    },
    {
     "name": "stderr",
     "output_type": "stream",
     "text": [
      "[*********************100%***********************]  10 of 10 completed\n",
      "C:\\Users\\Hadrien\\AppData\\Local\\Temp\\ipykernel_18548\\4072023076.py:41: FutureWarning: The previous implementation of stack is deprecated and will be removed in a future version of pandas. See the What's New notes for pandas 2.1.0 for details. Specify future_stack=True to adopt the new implementation and silence this warning.\n",
      "  data = data.stack(level=0, dropna=True).reset_index()\n"
     ]
    },
    {
     "name": "stdout",
     "output_type": "stream",
     "text": [
      "Téléchargement du lot 46 : ['TT', 'TDG', 'TRV', 'TRMB', 'TFC', 'TYL', 'TSN', 'USB', 'UBER', 'UDR']\n"
     ]
    },
    {
     "name": "stderr",
     "output_type": "stream",
     "text": [
      "[*********************100%***********************]  10 of 10 completed\n",
      "C:\\Users\\Hadrien\\AppData\\Local\\Temp\\ipykernel_18548\\4072023076.py:41: FutureWarning: The previous implementation of stack is deprecated and will be removed in a future version of pandas. See the What's New notes for pandas 2.1.0 for details. Specify future_stack=True to adopt the new implementation and silence this warning.\n",
      "  data = data.stack(level=0, dropna=True).reset_index()\n"
     ]
    },
    {
     "name": "stdout",
     "output_type": "stream",
     "text": [
      "Téléchargement du lot 47 : ['ULTA', 'UNP', 'UAL', 'UPS', 'URI', 'UNH', 'UHS', 'VLO', 'VTR', 'VLTO']\n"
     ]
    },
    {
     "name": "stderr",
     "output_type": "stream",
     "text": [
      "[*********************100%***********************]  10 of 10 completed\n",
      "C:\\Users\\Hadrien\\AppData\\Local\\Temp\\ipykernel_18548\\4072023076.py:41: FutureWarning: The previous implementation of stack is deprecated and will be removed in a future version of pandas. See the What's New notes for pandas 2.1.0 for details. Specify future_stack=True to adopt the new implementation and silence this warning.\n",
      "  data = data.stack(level=0, dropna=True).reset_index()\n"
     ]
    },
    {
     "name": "stdout",
     "output_type": "stream",
     "text": [
      "Téléchargement du lot 48 : ['VRSN', 'VRSK', 'VZ', 'VRTX', 'VTRS', 'VICI', 'V', 'VST', 'VMC', 'WRB']\n"
     ]
    },
    {
     "name": "stderr",
     "output_type": "stream",
     "text": [
      "[*********************100%***********************]  10 of 10 completed\n",
      "C:\\Users\\Hadrien\\AppData\\Local\\Temp\\ipykernel_18548\\4072023076.py:41: FutureWarning: The previous implementation of stack is deprecated and will be removed in a future version of pandas. See the What's New notes for pandas 2.1.0 for details. Specify future_stack=True to adopt the new implementation and silence this warning.\n",
      "  data = data.stack(level=0, dropna=True).reset_index()\n"
     ]
    },
    {
     "name": "stdout",
     "output_type": "stream",
     "text": [
      "Téléchargement du lot 49 : ['GWW', 'WAB', 'WBA', 'WMT', 'DIS', 'WBD', 'WM', 'WAT', 'WEC', 'WFC']\n"
     ]
    },
    {
     "name": "stderr",
     "output_type": "stream",
     "text": [
      "[*********************100%***********************]  10 of 10 completed\n",
      "C:\\Users\\Hadrien\\AppData\\Local\\Temp\\ipykernel_18548\\4072023076.py:41: FutureWarning: The previous implementation of stack is deprecated and will be removed in a future version of pandas. See the What's New notes for pandas 2.1.0 for details. Specify future_stack=True to adopt the new implementation and silence this warning.\n",
      "  data = data.stack(level=0, dropna=True).reset_index()\n"
     ]
    },
    {
     "name": "stdout",
     "output_type": "stream",
     "text": [
      "Téléchargement du lot 50 : ['WELL', 'WST', 'WDC', 'WY', 'WMB', 'WTW', 'WYNN', 'XEL', 'XYL', 'YUM']\n"
     ]
    },
    {
     "name": "stderr",
     "output_type": "stream",
     "text": [
      "[*********************100%***********************]  10 of 10 completed\n",
      "C:\\Users\\Hadrien\\AppData\\Local\\Temp\\ipykernel_18548\\4072023076.py:41: FutureWarning: The previous implementation of stack is deprecated and will be removed in a future version of pandas. See the What's New notes for pandas 2.1.0 for details. Specify future_stack=True to adopt the new implementation and silence this warning.\n",
      "  data = data.stack(level=0, dropna=True).reset_index()\n"
     ]
    },
    {
     "name": "stdout",
     "output_type": "stream",
     "text": [
      "Téléchargement du lot 51 : ['ZBRA', 'ZBH', 'ZTS']\n"
     ]
    },
    {
     "name": "stderr",
     "output_type": "stream",
     "text": [
      "[*********************100%***********************]  3 of 3 completed\n",
      "C:\\Users\\Hadrien\\AppData\\Local\\Temp\\ipykernel_18548\\4072023076.py:41: FutureWarning: The previous implementation of stack is deprecated and will be removed in a future version of pandas. See the What's New notes for pandas 2.1.0 for details. Specify future_stack=True to adopt the new implementation and silence this warning.\n",
      "  data = data.stack(level=0, dropna=True).reset_index()\n"
     ]
    },
    {
     "name": "stdout",
     "output_type": "stream",
     "text": [
      "Données téléchargées pour 2767480 lignes.\n",
      "Données sauvegardées dans sp500_data.csv\n"
     ]
    }
   ],
   "source": [
    "import yfinance as yf\n",
    "import pandas as pd\n",
    "from datetime import datetime\n",
    "\n",
    "\n",
    "# Télécharger la liste des tickers du S&P 500\n",
    "def get_sp500_tickers():\n",
    "    \"\"\"Récupère la liste des tickers du S&P 500 via Wikipedia.\"\"\"\n",
    "    url = \"https://en.wikipedia.org/wiki/List_of_S%26P_500_companies\"\n",
    "    table = pd.read_html(url, header=0)\n",
    "    sp500_table = table[0]  # La table principale est la première\n",
    "    return sp500_table[\"Symbol\"].tolist()\n",
    "\n",
    "\n",
    "# Télécharger les données pour une liste de tickers en plusieurs lots\n",
    "def download_sp500_data(\n",
    "    tickers, start_date=\"2000-01-01\", end_date=None, batch_size=10\n",
    ") -> pd.DataFrame:\n",
    "    \"\"\"\n",
    "    Télécharge les données daily de tous les tickers du S&P 500 en petits lots.\n",
    "    \"\"\"\n",
    "    if end_date is None:\n",
    "        end_date = datetime.now().strftime(\"%Y-%m-%d\")\n",
    "\n",
    "    all_data = []\n",
    "\n",
    "    # Diviser les tickers en lots pour éviter les limitations de yfinance\n",
    "    for i in range(0, len(tickers), batch_size):\n",
    "        batch = tickers[i : i + batch_size]\n",
    "        print(f\"Téléchargement du lot {i // batch_size + 1} : {batch}\")\n",
    "        data = yf.download(\n",
    "            tickers=\" \".join(batch),\n",
    "            start=start_date,\n",
    "            end=end_date,\n",
    "            interval=\"1d\",\n",
    "            group_by=\"ticker\",  # Organise les données par ticker\n",
    "            threads=True,  # Téléchargement parallèle\n",
    "        )\n",
    "\n",
    "        # Reformatage des données pour fusionner tous les lots\n",
    "        data = data.stack(level=0, dropna=True).reset_index()\n",
    "        data.columns = [\n",
    "            \"Date\",\n",
    "            \"Ticker\",\n",
    "            \"Open\",\n",
    "            \"High\",\n",
    "            \"Low\",\n",
    "            \"Close\",\n",
    "            \"Adj Close\",\n",
    "            \"Volume\",\n",
    "        ]\n",
    "        all_data.append(data)\n",
    "\n",
    "    # Concaténer toutes les données en un seul DataFrame\n",
    "    return pd.concat(all_data, ignore_index=True)\n",
    "\n",
    "\n",
    "def fill_table():\n",
    "    # Étape 1 : Récupérer les tickers\n",
    "    print(\"Téléchargement des tickers du S&P 500...\")\n",
    "    sp500_tickers = get_sp500_tickers()\n",
    "    print(f\"Nombre de tickers récupérés : {len(sp500_tickers)}\")\n",
    "\n",
    "    # Étape 2 : Télécharger les données en lots\n",
    "    print(\"Téléchargement des données journalières...\")\n",
    "    sp500_data = download_sp500_data(sp500_tickers, start_date=\"2000-01-01\")\n",
    "    print(f\"Données téléchargées pour {len(sp500_data)} lignes.\")\n",
    "\n",
    "    # Sauvegarde en fichier CSV\n",
    "    sp500_data.to_csv(\"./sp500_data.csv\", index=False)\n",
    "    print(\"Données sauvegardées dans sp500_data.csv\")\n",
    "\n",
    "\n",
    "# Exécuter le script\n",
    "fill_table()"
   ]
  },
  {
   "cell_type": "code",
   "execution_count": null,
   "metadata": {},
   "outputs": [],
   "source": []
  }
 ],
 "metadata": {
  "kernelspec": {
   "display_name": "Python 3",
   "language": "python",
   "name": "python3"
  },
  "language_info": {
   "codemirror_mode": {
    "name": "ipython",
    "version": 3
   },
   "file_extension": ".py",
   "mimetype": "text/x-python",
   "name": "python",
   "nbconvert_exporter": "python",
   "pygments_lexer": "ipython3",
   "version": "3.11.9"
  }
 },
 "nbformat": 4,
 "nbformat_minor": 2
}
