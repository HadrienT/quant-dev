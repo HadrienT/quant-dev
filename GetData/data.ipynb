{
 "cells": [
  {
   "cell_type": "code",
   "execution_count": null,
   "metadata": {},
   "outputs": [],
   "source": [
    "import yfinance as yf\n",
    "import pandas as pd\n",
    "from google.cloud import bigquery\n",
    "\n",
    "\n",
    "# Télécharger la liste des tickers du S&P 500\n",
    "def get_sp500_tickers():\n",
    "    \"\"\"Récupère la liste des tickers du S&P 500 via Wikipedia.\"\"\"\n",
    "    url = \"https://en.wikipedia.org/wiki/List_of_S%26P_500_companies\"\n",
    "    table = pd.read_html(url, header=0)\n",
    "    sp500_table = table[0]  # La table principale est la première\n",
    "    return sp500_table[\"Symbol\"].tolist()"
   ]
  },
  {
   "cell_type": "code",
   "execution_count": null,
   "metadata": {},
   "outputs": [],
   "source": [
    "# Télécharger les données pour tous les tickers\n",
    "def download_sp500_data(tickers, start_date=\"2000-01-01\", end_date=None):\n",
    "    \"\"\"\n",
    "    Télécharge les données daily de tous les tickers du S&P 500.\n",
    "    \"\"\"\n",
    "    # Obtenir les données via yfinance\n",
    "    data = yf.download(\n",
    "        tickers=\" \".join(tickers),\n",
    "        start=start_date,\n",
    "        end=end_date,\n",
    "        interval=\"1d\",\n",
    "        group_by=\"ticker\",  # Organise les données par ticker\n",
    "        threads=True,  # Téléchargement parallèle\n",
    "    )\n",
    "    return data"
   ]
  },
  {
   "cell_type": "code",
   "execution_count": null,
   "metadata": {},
   "outputs": [
    {
     "name": "stdout",
     "output_type": "stream",
     "text": [
      "Téléchargement des tickers du S&P 500...\n",
      "Nombre de tickers récupérés : 502\n",
      "Téléchargement des données journalières...\n"
     ]
    },
    {
     "name": "stderr",
     "output_type": "stream",
     "text": [
      "[*********************100%***********************]  2 of 2 completed"
     ]
    },
    {
     "name": "stdout",
     "output_type": "stream",
     "text": [
      "Sauvegarde des données dans sp500_data.csv...\n",
      "Données sauvegardées avec succès !\n"
     ]
    },
    {
     "name": "stderr",
     "output_type": "stream",
     "text": [
      "\n"
     ]
    }
   ],
   "source": [
    "if __name__ == \"__main__\":\n",
    "    # Étape 1 : Récupérer les tickers\n",
    "    print(\"Téléchargement des tickers du S&P 500...\")\n",
    "    sp500_tickers = get_sp500_tickers()\n",
    "    print(f\"Nombre de tickers récupérés : {len(sp500_tickers)}\")\n",
    "\n",
    "    # Étape 2 : Télécharger les données\n",
    "    print(\"Téléchargement des données journalières...\")\n",
    "    sp500_data = download_sp500_data(sp500_tickers[0:2], start_date=\"2020-01-01\")\n",
    "\n",
    "    # Étape 3 : Sauvegarder les données dans un fichier CSV\n",
    "    print(\"Sauvegarde des données dans sp500_data.csv...\")\n",
    "    sp500_data.to_csv(\"sp500_data.csv\")\n",
    "    print(\"Données sauvegardées avec succès !\")"
   ]
  },
  {
   "cell_type": "code",
   "execution_count": null,
   "metadata": {},
   "outputs": [],
   "source": [
    "# Charger les données dans BigQuery\n",
    "def load_data_to_bigquery(df, table_id, project_id):\n",
    "    \"\"\"\n",
    "    Charge un DataFrame dans une table BigQuery.\n",
    "\n",
    "    Arguments :\n",
    "        df : pandas.DataFrame contenant les données à charger.\n",
    "        table_id : ID complet de la table BigQuery (ex : dataset.table_name).\n",
    "        project_id : ID du projet Google Cloud.\n",
    "    \"\"\"\n",
    "    client = bigquery.Client(project=project_id)\n",
    "\n",
    "    # Convertir les données au format BigQuery\n",
    "    job = client.load_table_from_dataframe(df, table_id)\n",
    "\n",
    "    # Attendre la fin du job\n",
    "    job.result()\n",
    "    print(f\"Les données ont été chargées dans {table_id}\")"
   ]
  },
  {
   "cell_type": "code",
   "execution_count": null,
   "metadata": {},
   "outputs": [
    {
     "name": "stdout",
     "output_type": "stream",
     "text": [
      "Téléchargement des tickers du S&P 500...\n",
      "Nombre de tickers récupérés : 502\n",
      "Téléchargement des données journalières...\n"
     ]
    },
    {
     "name": "stderr",
     "output_type": "stream",
     "text": [
      "[*********************100%***********************]  3 of 3 completed"
     ]
    },
    {
     "name": "stdout",
     "output_type": "stream",
     "text": [
      "Restructuration des données pour BigQuery...\n"
     ]
    },
    {
     "name": "stderr",
     "output_type": "stream",
     "text": [
      "\n"
     ]
    }
   ],
   "source": [
    "if __name__ == \"__main__\":\n",
    "    # Étape 1 : Récupérer les tickers\n",
    "    print(\"Téléchargement des tickers du S&P 500...\")\n",
    "    sp500_tickers = get_sp500_tickers()\n",
    "    print(f\"Nombre de tickers récupérés : {len(sp500_tickers)}\")\n",
    "\n",
    "    # Étape 2 : Télécharger les données\n",
    "    print(\"Téléchargement des données journalières...\")\n",
    "    sp500_data = download_sp500_data(sp500_tickers[0:3], start_date=\"2024-01-01\")\n",
    "\n",
    "    # Restructurer les données pour BigQuery\n",
    "    print(\"Restructuration des données pour BigQuery...\")\n",
    "    sp500_data = sp500_data.stack(\n",
    "        level=0, future_stack=True\n",
    "    ).reset_index()  # Rendre les tickers une colonne\n",
    "    sp500_data.columns = [\n",
    "        \"Date\",\n",
    "        \"Ticker\",\n",
    "        \"Open\",\n",
    "        \"High\",\n",
    "        \"Low\",\n",
    "        \"Close\",\n",
    "        \"Adj Close\",\n",
    "        \"Volume\",\n",
    "    ]"
   ]
  },
  {
   "cell_type": "code",
   "execution_count": null,
   "metadata": {},
   "outputs": [
    {
     "name": "stdout",
     "output_type": "stream",
     "text": [
      "Chargement des données dans BigQuery...\n"
     ]
    },
    {
     "ename": "DefaultCredentialsError",
     "evalue": "Your default credentials were not found. To set up Application Default Credentials, see https://cloud.google.com/docs/authentication/external/set-up-adc for more information.",
     "output_type": "error",
     "traceback": [
      "\u001b[1;31m---------------------------------------------------------------------------\u001b[0m",
      "\u001b[1;31mDefaultCredentialsError\u001b[0m                   Traceback (most recent call last)",
      "Cell \u001b[1;32mIn[33], line 8\u001b[0m\n\u001b[0;32m      5\u001b[0m TABLE_ID \u001b[38;5;241m=\u001b[39m \u001b[38;5;124m\"\u001b[39m\u001b[38;5;124msp500_data\u001b[39m\u001b[38;5;124m\"\u001b[39m  \u001b[38;5;66;03m# Nom de la table\u001b[39;00m\n\u001b[0;32m      7\u001b[0m \u001b[38;5;66;03m# Charger les données\u001b[39;00m\n\u001b[1;32m----> 8\u001b[0m \u001b[43mload_data_to_bigquery\u001b[49m\u001b[43m(\u001b[49m\n\u001b[0;32m      9\u001b[0m \u001b[43m    \u001b[49m\u001b[43msp500_data\u001b[49m\u001b[43m,\u001b[49m\n\u001b[0;32m     10\u001b[0m \u001b[43m    \u001b[49m\u001b[43mtable_id\u001b[49m\u001b[38;5;241;43m=\u001b[39;49m\u001b[38;5;124;43mf\u001b[39;49m\u001b[38;5;124;43m\"\u001b[39;49m\u001b[38;5;132;43;01m{\u001b[39;49;00m\u001b[43mPROJECT_ID\u001b[49m\u001b[38;5;132;43;01m}\u001b[39;49;00m\u001b[38;5;124;43m.\u001b[39;49m\u001b[38;5;132;43;01m{\u001b[39;49;00m\u001b[43mDATASET_ID\u001b[49m\u001b[38;5;132;43;01m}\u001b[39;49;00m\u001b[38;5;124;43m.\u001b[39;49m\u001b[38;5;132;43;01m{\u001b[39;49;00m\u001b[43mTABLE_ID\u001b[49m\u001b[38;5;132;43;01m}\u001b[39;49;00m\u001b[38;5;124;43m\"\u001b[39;49m\u001b[43m,\u001b[49m\n\u001b[0;32m     11\u001b[0m \u001b[43m    \u001b[49m\u001b[43mproject_id\u001b[49m\u001b[38;5;241;43m=\u001b[39;49m\u001b[43mPROJECT_ID\u001b[49m\u001b[43m,\u001b[49m\n\u001b[0;32m     12\u001b[0m \u001b[43m)\u001b[49m\n",
      "Cell \u001b[1;32mIn[13], line 11\u001b[0m, in \u001b[0;36mload_data_to_bigquery\u001b[1;34m(df, table_id, project_id)\u001b[0m\n\u001b[0;32m      2\u001b[0m \u001b[38;5;28;01mdef\u001b[39;00m \u001b[38;5;21mload_data_to_bigquery\u001b[39m(df, table_id, project_id):\n\u001b[0;32m      3\u001b[0m \u001b[38;5;250m    \u001b[39m\u001b[38;5;124;03m\"\"\"\u001b[39;00m\n\u001b[0;32m      4\u001b[0m \u001b[38;5;124;03m    Charge un DataFrame dans une table BigQuery.\u001b[39;00m\n\u001b[0;32m      5\u001b[0m \u001b[38;5;124;03m    \u001b[39;00m\n\u001b[1;32m   (...)\u001b[0m\n\u001b[0;32m      9\u001b[0m \u001b[38;5;124;03m        project_id : ID du projet Google Cloud.\u001b[39;00m\n\u001b[0;32m     10\u001b[0m \u001b[38;5;124;03m    \"\"\"\u001b[39;00m\n\u001b[1;32m---> 11\u001b[0m     client \u001b[38;5;241m=\u001b[39m \u001b[43mbigquery\u001b[49m\u001b[38;5;241;43m.\u001b[39;49m\u001b[43mClient\u001b[49m\u001b[43m(\u001b[49m\u001b[43mproject\u001b[49m\u001b[38;5;241;43m=\u001b[39;49m\u001b[43mproject_id\u001b[49m\u001b[43m)\u001b[49m\n\u001b[0;32m     13\u001b[0m     \u001b[38;5;66;03m# Convertir les données au format BigQuery\u001b[39;00m\n\u001b[0;32m     14\u001b[0m     job \u001b[38;5;241m=\u001b[39m client\u001b[38;5;241m.\u001b[39mload_table_from_dataframe(df, table_id)\n",
      "File \u001b[1;32m~\\AppData\\Local\\Packages\\PythonSoftwareFoundation.Python.3.11_qbz5n2kfra8p0\\LocalCache\\local-packages\\Python311\\site-packages\\google\\cloud\\bigquery\\client.py:243\u001b[0m, in \u001b[0;36mClient.__init__\u001b[1;34m(self, project, credentials, _http, location, default_query_job_config, default_load_job_config, client_info, client_options)\u001b[0m\n\u001b[0;32m    232\u001b[0m \u001b[38;5;28;01mdef\u001b[39;00m \u001b[38;5;21m__init__\u001b[39m(\n\u001b[0;32m    233\u001b[0m     \u001b[38;5;28mself\u001b[39m,\n\u001b[0;32m    234\u001b[0m     project\u001b[38;5;241m=\u001b[39m\u001b[38;5;28;01mNone\u001b[39;00m,\n\u001b[1;32m   (...)\u001b[0m\n\u001b[0;32m    241\u001b[0m     client_options\u001b[38;5;241m=\u001b[39m\u001b[38;5;28;01mNone\u001b[39;00m,\n\u001b[0;32m    242\u001b[0m ) \u001b[38;5;241m-\u001b[39m\u001b[38;5;241m>\u001b[39m \u001b[38;5;28;01mNone\u001b[39;00m:\n\u001b[1;32m--> 243\u001b[0m     \u001b[38;5;28;43msuper\u001b[39;49m\u001b[43m(\u001b[49m\u001b[43mClient\u001b[49m\u001b[43m,\u001b[49m\u001b[43m \u001b[49m\u001b[38;5;28;43mself\u001b[39;49m\u001b[43m)\u001b[49m\u001b[38;5;241;43m.\u001b[39;49m\u001b[38;5;21;43m__init__\u001b[39;49m\u001b[43m(\u001b[49m\n\u001b[0;32m    244\u001b[0m \u001b[43m        \u001b[49m\u001b[43mproject\u001b[49m\u001b[38;5;241;43m=\u001b[39;49m\u001b[43mproject\u001b[49m\u001b[43m,\u001b[49m\n\u001b[0;32m    245\u001b[0m \u001b[43m        \u001b[49m\u001b[43mcredentials\u001b[49m\u001b[38;5;241;43m=\u001b[39;49m\u001b[43mcredentials\u001b[49m\u001b[43m,\u001b[49m\n\u001b[0;32m    246\u001b[0m \u001b[43m        \u001b[49m\u001b[43mclient_options\u001b[49m\u001b[38;5;241;43m=\u001b[39;49m\u001b[43mclient_options\u001b[49m\u001b[43m,\u001b[49m\n\u001b[0;32m    247\u001b[0m \u001b[43m        \u001b[49m\u001b[43m_http\u001b[49m\u001b[38;5;241;43m=\u001b[39;49m\u001b[43m_http\u001b[49m\u001b[43m,\u001b[49m\n\u001b[0;32m    248\u001b[0m \u001b[43m    \u001b[49m\u001b[43m)\u001b[49m\n\u001b[0;32m    250\u001b[0m     kw_args \u001b[38;5;241m=\u001b[39m {\u001b[38;5;124m\"\u001b[39m\u001b[38;5;124mclient_info\u001b[39m\u001b[38;5;124m\"\u001b[39m: client_info}\n\u001b[0;32m    251\u001b[0m     bq_host \u001b[38;5;241m=\u001b[39m _get_bigquery_host()\n",
      "File \u001b[1;32m~\\AppData\\Local\\Packages\\PythonSoftwareFoundation.Python.3.11_qbz5n2kfra8p0\\LocalCache\\local-packages\\Python311\\site-packages\\google\\cloud\\client\\__init__.py:321\u001b[0m, in \u001b[0;36mClientWithProject.__init__\u001b[1;34m(self, project, credentials, client_options, _http)\u001b[0m\n\u001b[0;32m    319\u001b[0m \u001b[38;5;28;01mdef\u001b[39;00m \u001b[38;5;21m__init__\u001b[39m(\u001b[38;5;28mself\u001b[39m, project\u001b[38;5;241m=\u001b[39m\u001b[38;5;28;01mNone\u001b[39;00m, credentials\u001b[38;5;241m=\u001b[39m\u001b[38;5;28;01mNone\u001b[39;00m, client_options\u001b[38;5;241m=\u001b[39m\u001b[38;5;28;01mNone\u001b[39;00m, _http\u001b[38;5;241m=\u001b[39m\u001b[38;5;28;01mNone\u001b[39;00m):\n\u001b[0;32m    320\u001b[0m     _ClientProjectMixin\u001b[38;5;241m.\u001b[39m\u001b[38;5;21m__init__\u001b[39m(\u001b[38;5;28mself\u001b[39m, project\u001b[38;5;241m=\u001b[39mproject, credentials\u001b[38;5;241m=\u001b[39mcredentials)\n\u001b[1;32m--> 321\u001b[0m     \u001b[43mClient\u001b[49m\u001b[38;5;241;43m.\u001b[39;49m\u001b[38;5;21;43m__init__\u001b[39;49m\u001b[43m(\u001b[49m\n\u001b[0;32m    322\u001b[0m \u001b[43m        \u001b[49m\u001b[38;5;28;43mself\u001b[39;49m\u001b[43m,\u001b[49m\u001b[43m \u001b[49m\u001b[43mcredentials\u001b[49m\u001b[38;5;241;43m=\u001b[39;49m\u001b[43mcredentials\u001b[49m\u001b[43m,\u001b[49m\u001b[43m \u001b[49m\u001b[43mclient_options\u001b[49m\u001b[38;5;241;43m=\u001b[39;49m\u001b[43mclient_options\u001b[49m\u001b[43m,\u001b[49m\u001b[43m \u001b[49m\u001b[43m_http\u001b[49m\u001b[38;5;241;43m=\u001b[39;49m\u001b[43m_http\u001b[49m\n\u001b[0;32m    323\u001b[0m \u001b[43m    \u001b[49m\u001b[43m)\u001b[49m\n",
      "File \u001b[1;32m~\\AppData\\Local\\Packages\\PythonSoftwareFoundation.Python.3.11_qbz5n2kfra8p0\\LocalCache\\local-packages\\Python311\\site-packages\\google\\cloud\\client\\__init__.py:178\u001b[0m, in \u001b[0;36mClient.__init__\u001b[1;34m(self, credentials, _http, client_options)\u001b[0m\n\u001b[0;32m    174\u001b[0m         credentials, _ \u001b[38;5;241m=\u001b[39m google\u001b[38;5;241m.\u001b[39mauth\u001b[38;5;241m.\u001b[39mload_credentials_from_file(\n\u001b[0;32m    175\u001b[0m             client_options\u001b[38;5;241m.\u001b[39mcredentials_file, scopes\u001b[38;5;241m=\u001b[39mscopes\n\u001b[0;32m    176\u001b[0m         )\n\u001b[0;32m    177\u001b[0m     \u001b[38;5;28;01melse\u001b[39;00m:\n\u001b[1;32m--> 178\u001b[0m         credentials, _ \u001b[38;5;241m=\u001b[39m \u001b[43mgoogle\u001b[49m\u001b[38;5;241;43m.\u001b[39;49m\u001b[43mauth\u001b[49m\u001b[38;5;241;43m.\u001b[39;49m\u001b[43mdefault\u001b[49m\u001b[43m(\u001b[49m\u001b[43mscopes\u001b[49m\u001b[38;5;241;43m=\u001b[39;49m\u001b[43mscopes\u001b[49m\u001b[43m)\u001b[49m\n\u001b[0;32m    180\u001b[0m \u001b[38;5;28mself\u001b[39m\u001b[38;5;241m.\u001b[39m_credentials \u001b[38;5;241m=\u001b[39m google\u001b[38;5;241m.\u001b[39mauth\u001b[38;5;241m.\u001b[39mcredentials\u001b[38;5;241m.\u001b[39mwith_scopes_if_required(\n\u001b[0;32m    181\u001b[0m     credentials, scopes\u001b[38;5;241m=\u001b[39mscopes\n\u001b[0;32m    182\u001b[0m )\n\u001b[0;32m    184\u001b[0m \u001b[38;5;28;01mif\u001b[39;00m client_options\u001b[38;5;241m.\u001b[39mquota_project_id:\n",
      "File \u001b[1;32m~\\AppData\\Local\\Packages\\PythonSoftwareFoundation.Python.3.11_qbz5n2kfra8p0\\LocalCache\\local-packages\\Python311\\site-packages\\google\\auth\\_default.py:697\u001b[0m, in \u001b[0;36mdefault\u001b[1;34m(scopes, request, quota_project_id, default_scopes)\u001b[0m\n\u001b[0;32m    689\u001b[0m             _LOGGER\u001b[38;5;241m.\u001b[39mwarning(\n\u001b[0;32m    690\u001b[0m                 \u001b[38;5;124m\"\u001b[39m\u001b[38;5;124mNo project ID could be determined. Consider running \u001b[39m\u001b[38;5;124m\"\u001b[39m\n\u001b[0;32m    691\u001b[0m                 \u001b[38;5;124m\"\u001b[39m\u001b[38;5;124m`gcloud config set project` or setting the \u001b[39m\u001b[38;5;132;01m%s\u001b[39;00m\u001b[38;5;124m \u001b[39m\u001b[38;5;124m\"\u001b[39m\n\u001b[0;32m    692\u001b[0m                 \u001b[38;5;124m\"\u001b[39m\u001b[38;5;124menvironment variable\u001b[39m\u001b[38;5;124m\"\u001b[39m,\n\u001b[0;32m    693\u001b[0m                 environment_vars\u001b[38;5;241m.\u001b[39mPROJECT,\n\u001b[0;32m    694\u001b[0m             )\n\u001b[0;32m    695\u001b[0m         \u001b[38;5;28;01mreturn\u001b[39;00m credentials, effective_project_id\n\u001b[1;32m--> 697\u001b[0m \u001b[38;5;28;01mraise\u001b[39;00m exceptions\u001b[38;5;241m.\u001b[39mDefaultCredentialsError(_CLOUD_SDK_MISSING_CREDENTIALS)\n",
      "\u001b[1;31mDefaultCredentialsError\u001b[0m: Your default credentials were not found. To set up Application Default Credentials, see https://cloud.google.com/docs/authentication/external/set-up-adc for more information."
     ]
    }
   ],
   "source": [
    "# Étape 3 : Charger dans BigQuery\n",
    "print(\"Chargement des données dans BigQuery...\")\n",
    "PROJECT_ID = \"quant-dev-442615\"  # Remplacez par votre ID de projet\n",
    "DATASET_ID = \"financial_data\"  # Remplacez par le nom de votre dataset\n",
    "TABLE_ID = \"sp500_data\"  # Nom de la table\n",
    "\n",
    "# Charger les données\n",
    "load_data_to_bigquery(\n",
    "    sp500_data,\n",
    "    table_id=f\"{PROJECT_ID}.{DATASET_ID}.{TABLE_ID}\",\n",
    "    project_id=PROJECT_ID,\n",
    ")"
   ]
  },
  {
   "cell_type": "code",
   "execution_count": 57,
   "metadata": {},
   "outputs": [],
   "source": [
    "from datetime import datetime, timedelta\n",
    "\n",
    "\n",
    "# Télécharger les données du jour précédent\n",
    "def download_previous_day_data(tickers):\n",
    "    \"\"\"\n",
    "    Télécharge les données daily pour les tickers du jour précédent.\n",
    "    \"\"\"\n",
    "    yesterday = datetime.now() - timedelta(days=1)\n",
    "    start_date = yesterday.strftime(\"%Y-%m-%d\")\n",
    "    end_date = start_date  # Une seule journée\n",
    "    data = yf.download(\n",
    "        tickers=\" \".join(tickers),\n",
    "        start=start_date,\n",
    "        end=end_date,\n",
    "        interval=\"1d\",\n",
    "        group_by=\"ticker\",\n",
    "        threads=True,\n",
    "    )\n",
    "    # Restructurer les données\n",
    "    data = data.stack(level=0, future_stack=True).reset_index()\n",
    "    data.columns = [\n",
    "        \"Date\",\n",
    "        \"Ticker\",\n",
    "        \"Open\",\n",
    "        \"High\",\n",
    "        \"Low\",\n",
    "        \"Close\",\n",
    "        \"Adj Close\",\n",
    "        \"Volume\",\n",
    "    ]\n",
    "    return data"
   ]
  },
  {
   "cell_type": "code",
   "execution_count": null,
   "metadata": {},
   "outputs": [
    {
     "name": "stderr",
     "output_type": "stream",
     "text": [
      "[*********************100%***********************]  2 of 2 completed\n",
      "\n",
      "2 Failed downloads:\n",
      "['AOS', 'MMM']: YFPricesMissingError('$%ticker%: possibly delisted; no price data found  (1d 2024-11-24 -> 2024-11-24)')\n"
     ]
    },
    {
     "name": "stdout",
     "output_type": "stream",
     "text": [
      "Téléchargement des données du jour précédent...\n"
     ]
    }
   ],
   "source": [
    "tickers = get_sp500_tickers()\n",
    "\n",
    "# Étape 2 : Télécharger les données\n",
    "print(\"Téléchargement des données du jour précédent...\")\n",
    "sp500_data = download_previous_day_data(tickers[0:2])\n",
    "sp500_data[\"Date\"] = pd.to_datetime(sp500_data[\"Date\"]).dt.date"
   ]
  },
  {
   "cell_type": "code",
   "execution_count": 59,
   "metadata": {},
   "outputs": [
    {
     "data": {
      "text/html": [
       "<div>\n",
       "<style scoped>\n",
       "    .dataframe tbody tr th:only-of-type {\n",
       "        vertical-align: middle;\n",
       "    }\n",
       "\n",
       "    .dataframe tbody tr th {\n",
       "        vertical-align: top;\n",
       "    }\n",
       "\n",
       "    .dataframe thead th {\n",
       "        text-align: right;\n",
       "    }\n",
       "</style>\n",
       "<table border=\"1\" class=\"dataframe\">\n",
       "  <thead>\n",
       "    <tr style=\"text-align: right;\">\n",
       "      <th></th>\n",
       "      <th>Date</th>\n",
       "      <th>Ticker</th>\n",
       "      <th>Open</th>\n",
       "      <th>High</th>\n",
       "      <th>Low</th>\n",
       "      <th>Close</th>\n",
       "      <th>Adj Close</th>\n",
       "      <th>Volume</th>\n",
       "    </tr>\n",
       "  </thead>\n",
       "  <tbody>\n",
       "  </tbody>\n",
       "</table>\n",
       "</div>"
      ],
      "text/plain": [
       "Empty DataFrame\n",
       "Columns: [Date, Ticker, Open, High, Low, Close, Adj Close, Volume]\n",
       "Index: []"
      ]
     },
     "execution_count": 59,
     "metadata": {},
     "output_type": "execute_result"
    }
   ],
   "source": [
    "sp500_data"
   ]
  },
  {
   "cell_type": "code",
   "execution_count": null,
   "metadata": {},
   "outputs": [
    {
     "name": "stderr",
     "output_type": "stream",
     "text": [
      "[*********************100%***********************]  2 of 2 completed\n",
      "\n",
      "2 Failed downloads:\n",
      "['MSFT', 'AAPL']: YFPricesMissingError('$%ticker%: possibly delisted; no price data found  (1d 2024-11-24 -> 2024-11-25)')\n"
     ]
    },
    {
     "name": "stdout",
     "output_type": "stream",
     "text": [
      "2024-11-24\n",
      "2024-11-25\n",
      "Empty DataFrame\n",
      "Columns: [Date, Ticker, Open, High, Low, Close, Adj Close, Volume]\n",
      "Index: []\n"
     ]
    }
   ],
   "source": [
    "tickers = [\"AAPL\", \"MSFT\"]\n",
    "yesterday = datetime.now() - timedelta(days=1)\n",
    "start_date = yesterday.strftime(\"%Y-%m-%d\")\n",
    "end_date = start_date  # Une seule journée\n",
    "start_date = (datetime.now() - timedelta(days=1)).strftime(\"%Y-%m-%d\")\n",
    "end_date = (datetime.now() - timedelta(days=0)).strftime(\"%Y-%m-%d\")\n",
    "\n",
    "print(start_date)\n",
    "print(end_date)\n",
    "data = yf.download(\n",
    "    tickers=tickers,\n",
    "    start=start_date,\n",
    "    end=end_date,\n",
    "    interval=\"1d\",\n",
    "    group_by=\"ticker\",\n",
    "    threads=True,\n",
    ")\n",
    "# Restructurer les données\n",
    "data = data.stack(level=0, future_stack=True).reset_index()\n",
    "data.columns = [\n",
    "    \"Date\",\n",
    "    \"Ticker\",\n",
    "    \"Open\",\n",
    "    \"High\",\n",
    "    \"Low\",\n",
    "    \"Close\",\n",
    "    \"Adj Close\",\n",
    "    \"Volume\",\n",
    "]\n",
    "print(data)"
   ]
  },
  {
   "cell_type": "code",
   "execution_count": null,
   "metadata": {},
   "outputs": [],
   "source": []
  }
 ],
 "metadata": {
  "kernelspec": {
   "display_name": "Python 3",
   "language": "python",
   "name": "python3"
  },
  "language_info": {
   "codemirror_mode": {
    "name": "ipython",
    "version": 3
   },
   "file_extension": ".py",
   "mimetype": "text/x-python",
   "name": "python",
   "nbconvert_exporter": "python",
   "pygments_lexer": "ipython3",
   "version": "3.11.9"
  }
 },
 "nbformat": 4,
 "nbformat_minor": 2
}
